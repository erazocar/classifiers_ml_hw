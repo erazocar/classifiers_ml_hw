{
  "nbformat": 4,
  "nbformat_minor": 0,
  "metadata": {
    "colab": {
      "name": "kkk_classifiers.ipynb",
      "provenance": [],
      "collapsed_sections": [],
      "mount_file_id": "1T9ronN62ea-fcVAG8pOd62Ab498mOGLq",
      "authorship_tag": "ABX9TyP8gwezaBsMAFuOQYuNWOrB",
      "include_colab_link": true
    },
    "kernelspec": {
      "name": "python3",
      "display_name": "Python 3"
    },
    "language_info": {
      "name": "python"
    }
  },
  "cells": [
    {
      "cell_type": "markdown",
      "metadata": {
        "id": "view-in-github",
        "colab_type": "text"
      },
      "source": [
        "<a href=\"https://colab.research.google.com/github/erazocar/classifiers_ml_hw/blob/main/kkk_classifiers.ipynb\" target=\"_parent\"><img src=\"https://colab.research.google.com/assets/colab-badge.svg\" alt=\"Open In Colab\"/></a>"
      ]
    },
    {
      "cell_type": "markdown",
      "metadata": {
        "id": "Fmy1FmF5IRf1"
      },
      "source": [
        "# **HW5: Classifiers**\n",
        "## **Required Libraries**"
      ]
    },
    {
      "cell_type": "code",
      "metadata": {
        "id": "AltcjEBB7nvq"
      },
      "source": [
        "#Scientific computing libraries\n",
        "import numpy as np\n",
        "import os\n",
        "import pandas as pd\n",
        "import scipy as sp\n",
        "\n",
        "#performance control\n",
        "import time\n",
        "\n",
        "#Libraries from Sklearn\n",
        "from sklearn.neighbors import KNeighborsClassifier as KNN\n",
        "from sklearn.model_selection import LeaveOneOut\n",
        "from sklearn.naive_bayes import MultinomialNB\n",
        "\n",
        "from sklearn.pipeline import make_pipeline\n",
        "from sklearn.preprocessing import StandardScaler\n",
        "from sklearn.decomposition import PCA\n",
        "\n",
        "from sklearn.model_selection import cross_val_score\n",
        "from sklearn.metrics import classification_report\n",
        "from sklearn.metrics import accuracy_score\n"
      ],
      "execution_count": 34,
      "outputs": []
    },
    {
      "cell_type": "markdown",
      "metadata": {
        "id": "2G5B9FT9h6Lv"
      },
      "source": [
        "## **Function Definition**"
      ]
    },
    {
      "cell_type": "code",
      "metadata": {
        "id": "18KYje0w3atd"
      },
      "source": [
        "#Reader for each file, appended to a list.\n",
        "def reader1(path):\n",
        "  data = []\n",
        "  filenames = os.listdir(path)\n",
        "  for file in filenames:\n",
        "    filepath = path + '/' + file\n",
        "    d = pd.read_csv(filepath, header = None, sep=',')\n",
        "    data.append(d)\n",
        "  return data"
      ],
      "execution_count": null,
      "outputs": []
    },
    {
      "cell_type": "code",
      "metadata": {
        "id": "qjT6KlM3cwZJ"
      },
      "source": [
        "#Reader for each file, appended to a list.\n",
        "def reader2(path):\n",
        "  data = []\n",
        "  filenames = os.listdir(path)\n",
        "  for file in filenames:\n",
        "    filepath = path + '/' + file\n",
        "    d = pd.read_csv(filepath, header = None, sep=' ')\n",
        "    data.append(d)\n",
        "  return data"
      ],
      "execution_count": 6,
      "outputs": []
    },
    {
      "cell_type": "code",
      "metadata": {
        "id": "rqruTZcNjYVs"
      },
      "source": [
        "#KNN Classifier with num neighbors added\n",
        "def training_KNN(train_data, train_label, test_data, neigh):\n",
        "  start = time.time()\n",
        "  classifier = KNN(n_neighbors=neigh)\n",
        "  classifier.fit(train_data, np.ravel(train_label))\n",
        "  end = time.time()\n",
        "  pred = classifier.predict(test_data)\n",
        "\n",
        "  #training model\n",
        "\n",
        "  print(\"Time duration for KNN \" + str(end - start) + \"s.\")\n",
        "  return pred, classifier"
      ],
      "execution_count": null,
      "outputs": []
    },
    {
      "cell_type": "code",
      "metadata": {
        "id": "NA2t9SHIyspg"
      },
      "source": [
        "#Train Naive Bayes estimator\n",
        "def training_NB(x_train, y_train, x_test ,y_test):\n",
        "  NB = MultinomialNB(alpha=1)\n",
        "  start = time.time()\n",
        "  result = NB.fit(x_train, np.ravel(y_train))\n",
        "  pred = NB.predict(x_test)\n",
        "  end = time.time()\n",
        "\n",
        "  print(\"Accuracy: \"+ str(NB.score(x_test, np.ravel(y_test))) + \", Time duration for NB \" + str(end - start))\n",
        "  return pred"
      ],
      "execution_count": 24,
      "outputs": []
    },
    {
      "cell_type": "code",
      "metadata": {
        "id": "Wi7nTHXBi-Jl"
      },
      "source": [
        "#Create feature training set for Naive Bayes Estimation\n",
        "def feature_conversion(training_set, word):\n",
        "  #Get features of documents and words\n",
        "  doc,doc_count= np.unique(training_set[0], return_counts=True)\n",
        "  #Accumulate the count of documents per row and assign to list\n",
        "  doc_count_sum = np.cumsum(doc_count).tolist()\n",
        "  #Append the first line with 0s on the sum docs\n",
        "  doc_count_sum.insert(0,0)\n",
        "\n",
        "  X_traina = []\n",
        "\n",
        "  for i, value1 in enumerate(doc_count_sum):\n",
        "    try:\n",
        "      val = doc_count_sum[i]\n",
        "      end = doc_count_sum[i+1]\n",
        "      rows = [0] * len(word)\n",
        "\n",
        "      selec = training_set[1][val:end]\n",
        "      ans = training_set[2][val:end]\n",
        "      index = np.where(np.in1d(word, selec))[0].tolist()\n",
        "\n",
        "      for (ind, replacement) in zip(index, ans):\n",
        "        rows[ind] = replacement\n",
        "      X_traina.append(rows)\n",
        "    except IndexError:\n",
        "      pass\n",
        "\n",
        "  \n",
        "  return sp.sparse.csr_matrix(X_traina)"
      ],
      "execution_count": 3,
      "outputs": []
    },
    {
      "cell_type": "markdown",
      "metadata": {
        "id": "Y3wuDsWDAqI6"
      },
      "source": [
        "## **Preprocessing**"
      ]
    },
    {
      "cell_type": "code",
      "metadata": {
        "id": "kwDY-G6-7Vob"
      },
      "source": [
        "#Read paths and create contents for the documents.\n",
        "#Please put the local paths were the queries and docs are located when running.\n",
        "#Data for problem 1\n",
        "folder1 = '/content/drive/MyDrive/MachineLearning/homework-5/heart'\n",
        "\n",
        "example1 = reader1(folder1)"
      ],
      "execution_count": null,
      "outputs": []
    },
    {
      "cell_type": "code",
      "metadata": {
        "id": "DJHW6vEuc98g"
      },
      "source": [
        "#Read paths and create contents for the documents.\n",
        "#Please put the local paths were the queries and docs are located when running.\n",
        "#Data for problem 1\n",
        "folder2 = '/content/drive/MyDrive/MachineLearning/homework-5/20newsgroup'\n",
        "\n",
        "example2 = reader2(folder2)"
      ],
      "execution_count": 7,
      "outputs": []
    },
    {
      "cell_type": "code",
      "metadata": {
        "id": "yDse5S34Tcpu"
      },
      "source": [
        "#Read paths and create contents for the documents.\n",
        "#Please put the local paths were the queries and docs are located when running.\n",
        "#Data for problem 1\n",
        "folder3 = '/content/drive/MyDrive/MachineLearning/homework-5/gisette'\n",
        "\n",
        "example3 = reader2(folder3)"
      ],
      "execution_count": null,
      "outputs": []
    },
    {
      "cell_type": "markdown",
      "metadata": {
        "id": "o6Vhr6QQoLHY"
      },
      "source": [
        "## **Problem 1**"
      ]
    },
    {
      "cell_type": "markdown",
      "metadata": {
        "id": "OJZHfMbnt0D3"
      },
      "source": [
        "Using Leave-one-out cross validation for different values of k"
      ]
    },
    {
      "cell_type": "code",
      "metadata": {
        "colab": {
          "base_uri": "https://localhost:8080/"
        },
        "id": "fTHE9VUSJAcF",
        "outputId": "e0012780-15e6-4941-aacf-88f9fb354dcf"
      },
      "source": [
        "#Evaluate which is the best accuracy for the cross validation\n",
        "loocv = LeaveOneOut()\n",
        "\n",
        "#List with k's iterating from 1 to 10\n",
        "ks = range(1,11)\n",
        "\n",
        "for i in ks:\n",
        "  start1 = time.time()\n",
        "  mod = KNN(n_neighbors=i)\n",
        "  results_loocv = cross_val_score(mod, example1[0], np.ravel(example1[1]), cv = loocv, scoring='accuracy')\n",
        "  end1 = time.time()\n",
        "  print(\"Accuracy : %.2f%%\" % (results_loocv.mean()*100) + f\" for k={i}\")\n",
        "  print(\"Averaged error : %.2f%%\" % ((1-results_loocv.mean())*100), end = '\\n')\n",
        "  print(\"Time duration for problem1 \" + str(end1 - start1) + f\"s for k={i}\")\n",
        "  print(\"\")"
      ],
      "execution_count": null,
      "outputs": [
        {
          "output_type": "stream",
          "name": "stdout",
          "text": [
            "Accuracy : 77.37% for k=1\n",
            "Averaged error : 22.63%\n",
            "Time duration for problem1 0.8773796558380127s for k=1\n",
            "\n",
            "Accuracy : 77.37% for k=2\n",
            "Averaged error : 22.63%\n",
            "Time duration for problem1 0.8300397396087646s for k=2\n",
            "\n",
            "Accuracy : 82.72% for k=3\n",
            "Averaged error : 17.28%\n",
            "Time duration for problem1 0.8476603031158447s for k=3\n",
            "\n",
            "Accuracy : 81.48% for k=4\n",
            "Averaged error : 18.52%\n",
            "Time duration for problem1 0.8179936408996582s for k=4\n",
            "\n",
            "Accuracy : 81.89% for k=5\n",
            "Averaged error : 18.11%\n",
            "Time duration for problem1 0.7978365421295166s for k=5\n",
            "\n",
            "Accuracy : 83.54% for k=6\n",
            "Averaged error : 16.46%\n",
            "Time duration for problem1 0.8312366008758545s for k=6\n",
            "\n",
            "Accuracy : 83.13% for k=7\n",
            "Averaged error : 16.87%\n",
            "Time duration for problem1 0.8271458148956299s for k=7\n",
            "\n",
            "Accuracy : 81.89% for k=8\n",
            "Averaged error : 18.11%\n",
            "Time duration for problem1 0.8243300914764404s for k=8\n",
            "\n",
            "Accuracy : 81.89% for k=9\n",
            "Averaged error : 18.11%\n",
            "Time duration for problem1 0.8216161727905273s for k=9\n",
            "\n",
            "Accuracy : 82.30% for k=10\n",
            "Averaged error : 17.70%\n",
            "Time duration for problem1 0.82303786277771s for k=10\n",
            "\n"
          ]
        }
      ]
    },
    {
      "cell_type": "code",
      "metadata": {
        "colab": {
          "base_uri": "https://localhost:8080/"
        },
        "id": "WcvSJmq96C26",
        "outputId": "fd50d88e-4ba1-41e2-efe5-1a8447cf1494"
      },
      "source": [
        "#Train model on the best k and reporting the labels\n",
        "knn_values, knn_model = training_KNN(example1[0], example1[1], example1[2], 6)"
      ],
      "execution_count": null,
      "outputs": [
        {
          "output_type": "stream",
          "name": "stdout",
          "text": [
            "Time duration for KNN 0.0019381046295166016s.\n"
          ]
        }
      ]
    },
    {
      "cell_type": "code",
      "metadata": {
        "colab": {
          "base_uri": "https://localhost:8080/"
        },
        "id": "MVLYOLz9tn5k",
        "outputId": "b2c22d55-12aa-4fd4-a60a-85ee01afb6de"
      },
      "source": [
        "#Predicted labers\n",
        "knn_values"
      ],
      "execution_count": null,
      "outputs": [
        {
          "output_type": "execute_result",
          "data": {
            "text/plain": [
              "array([-1, -1,  1, -1,  1, -1, -1,  1, -1,  1,  1,  1, -1, -1, -1,  1,  1,\n",
              "       -1, -1, -1,  1,  1,  1,  1, -1, -1, -1])"
            ]
          },
          "metadata": {},
          "execution_count": 12
        }
      ]
    },
    {
      "cell_type": "markdown",
      "metadata": {
        "id": "4NSP14VRoTIH"
      },
      "source": [
        "## **Problem 2**"
      ]
    },
    {
      "cell_type": "code",
      "metadata": {
        "id": "wvCkHpTZWu6x"
      },
      "source": [
        "#\"Bag of words\" for training the data\n",
        "words = np.unique(example2[0][1])"
      ],
      "execution_count": 8,
      "outputs": []
    },
    {
      "cell_type": "code",
      "metadata": {
        "id": "3q1zn0VFb_DK"
      },
      "source": [
        "#Total will take around 4 min of execution\n",
        "X_train2 = feature_conversion(example2[0], words)\n",
        "X_test2 = feature_conversion(example2[3], words)"
      ],
      "execution_count": 9,
      "outputs": []
    },
    {
      "cell_type": "code",
      "metadata": {
        "id": "Pk5n3ozldH7P",
        "colab": {
          "base_uri": "https://localhost:8080/"
        },
        "outputId": "d3a967fc-4bd3-4509-9288-786aea7b04b1"
      },
      "source": [
        "#Prediction\n",
        "NB_cl = training_NB(X_train2, example2[1], X_test2, example2[5])"
      ],
      "execution_count": 25,
      "outputs": [
        {
          "output_type": "stream",
          "name": "stdout",
          "text": [
            "Accuracy: 0.7846768820786143, Time duration for NB 0.11965441703796387\n"
          ]
        }
      ]
    },
    {
      "cell_type": "code",
      "metadata": {
        "colab": {
          "base_uri": "https://localhost:8080/"
        },
        "id": "K6JhaNoRB3OS",
        "outputId": "e037cca3-e452-4880-d0c6-e49da55a6f00"
      },
      "source": [
        "#Classifier and labeler\n",
        "classif = classification_report(example2[5], NB_cl, target_names=example2[2][0])\n",
        "print(classif)"
      ],
      "execution_count": 31,
      "outputs": [
        {
          "output_type": "stream",
          "name": "stdout",
          "text": [
            "                          precision    recall  f1-score   support\n",
            "\n",
            "             alt.atheism       0.70      0.75      0.73       318\n",
            "           comp.graphics       0.67      0.76      0.71       389\n",
            " comp.os.ms-windows.misc       0.82      0.53      0.65       391\n",
            "comp.sys.ibm.pc.hardware       0.60      0.77      0.68       392\n",
            "   comp.sys.mac.hardware       0.79      0.72      0.75       383\n",
            "          comp.windows.x       0.82      0.78      0.80       390\n",
            "            misc.forsale       0.91      0.62      0.73       382\n",
            "               rec.autos       0.79      0.90      0.84       395\n",
            "         rec.motorcycles       0.94      0.89      0.91       397\n",
            "      rec.sport.baseball       0.96      0.88      0.92       397\n",
            "        rec.sport.hockey       0.94      0.96      0.95       399\n",
            "               sci.crypt       0.75      0.91      0.82       395\n",
            "         sci.electronics       0.78      0.66      0.72       393\n",
            "                 sci.med       0.89      0.82      0.85       393\n",
            "               sci.space       0.88      0.86      0.87       392\n",
            "  soc.religion.christian       0.69      0.95      0.80       398\n",
            "      talk.politics.guns       0.68      0.89      0.77       364\n",
            "   talk.politics.mideast       0.89      0.86      0.88       376\n",
            "      talk.politics.misc       0.58      0.60      0.59       310\n",
            "      talk.religion.misc       0.84      0.37      0.51       251\n",
            "\n",
            "                accuracy                           0.78      7505\n",
            "               macro avg       0.80      0.77      0.77      7505\n",
            "            weighted avg       0.80      0.78      0.78      7505\n",
            "\n"
          ]
        }
      ]
    },
    {
      "cell_type": "code",
      "metadata": {
        "id": "rHVwS8Ys5jCH"
      },
      "source": [
        "#Print out in directory, please change the name of directory if neccesary.\n",
        "savpath = \"/content/drive/MyDrive/MachineLearning/homework-5\"\n",
        "name = \"P2_Result.txt\"\n",
        "\n",
        "completeName = os.path.join(savpath, name)\n",
        "file1 = open(completeName, \"w\")\n",
        "file1.write(classif)\n",
        "file1.close()"
      ],
      "execution_count": 33,
      "outputs": []
    },
    {
      "cell_type": "markdown",
      "metadata": {
        "id": "Ec3Br6KeogQH"
      },
      "source": [
        "## **Problem 3**\n",
        "\n",
        "Inside the list containing the files, index 0 and 2 correspond to the testing dataset (label and data, respectively), while index 1 and 3 correspond to the training dataset. (label and data respectively)."
      ]
    },
    {
      "cell_type": "markdown",
      "metadata": {
        "id": "vNm0A0wBVoen"
      },
      "source": [
        "### **Part 1: KNN using given data**\n",
        "\n",
        "Using a holdout validation approach, the given testing and training sets were evaluated to get the performance of the models. To obtain the best k, the same approach as for the first problem was used testing the k's on the models iteratively."
      ]
    },
    {
      "cell_type": "code",
      "metadata": {
        "id": "430bel7toivn",
        "colab": {
          "base_uri": "https://localhost:8080/"
        },
        "outputId": "d20d4e31-0d91-4f7a-9927-3643b5658f89"
      },
      "source": [
        "#Using the same k leave one out cross validation for selecting the best k\n",
        "ks2 = range(1,11)\n",
        "\n",
        "for i in ks2:\n",
        "  start2 = time.time()\n",
        "  mod2 = KNN(n_neighbors=i)\n",
        "  mod2.fit(example3[3], np.ravel(example3[1]))\n",
        "  results = mod2.score(example3[2], np.ravel(example3[0]))\n",
        "  end2 = time.time()\n",
        "  print(\"Accuracy : %.2f%%\" % (results*100) + f\" for k={i}\")\n",
        "  print(\"Averaged error : %.2f%%\" % ((1-results)*100), end = '\\n')\n",
        "  print(\"Time duration for problem 3 with original data \" + str(end2 - start2) + f\"s for k={i}\")\n",
        "  print(\"\")"
      ],
      "execution_count": null,
      "outputs": [
        {
          "output_type": "stream",
          "name": "stdout",
          "text": [
            "Accuracy : 96.20% for k=1\n",
            "Averaged error : 3.80%\n",
            "\n",
            "Accuracy : 96.10% for k=2\n",
            "Averaged error : 3.90%\n",
            "\n",
            "Accuracy : 96.60% for k=3\n",
            "Averaged error : 3.40%\n",
            "\n",
            "Accuracy : 96.40% for k=4\n",
            "Averaged error : 3.60%\n",
            "\n",
            "Accuracy : 96.10% for k=5\n",
            "Averaged error : 3.90%\n",
            "\n",
            "Accuracy : 96.50% for k=6\n",
            "Averaged error : 3.50%\n",
            "\n",
            "Accuracy : 96.20% for k=7\n",
            "Averaged error : 3.80%\n",
            "\n",
            "Accuracy : 96.50% for k=8\n",
            "Averaged error : 3.50%\n",
            "\n",
            "Accuracy : 96.30% for k=9\n",
            "Averaged error : 3.70%\n",
            "\n",
            "Accuracy : 96.40% for k=10\n",
            "Averaged error : 3.60%\n",
            "\n"
          ]
        }
      ]
    },
    {
      "cell_type": "markdown",
      "metadata": {
        "id": "Xj7tKljFStrQ"
      },
      "source": [
        "### **Part 2: KNN using PCA**\n",
        "\n",
        "After trying with several component decomposition, the optimum k was found at number of components = 11 with k=6, grabbing from a list of k's from 0 to 10."
      ]
    },
    {
      "cell_type": "code",
      "metadata": {
        "id": "IWE3Zt-jZf8G",
        "colab": {
          "base_uri": "https://localhost:8080/"
        },
        "outputId": "dcfc4978-be2b-4d61-b14f-26c2676c8adb"
      },
      "source": [
        "#Using the same k leave one out cross validation for selecting the best k in PCA\n",
        "ks3 = range(1,11)\n",
        "\n",
        "for i in ks3:\n",
        "  start3 = time.time()\n",
        "  mod3 = KNN(n_neighbors=i)\n",
        "  #create pipeline and feed the PCA decomposition function.\n",
        "  pca = make_pipeline(StandardScaler(), PCA(n_components=11))\n",
        "  pca.fit_transform(example3[3], np.ravel(example3[1]))\n",
        "  mod3.fit(pca.transform(example3[3]), np.ravel(example3[1]))\n",
        "  results2 = mod3.score(pca.transform(example3[2]), np.ravel(example3[0]))\n",
        "  end3 = time.time()\n",
        "  print(\"Accuracy : %.2f%%\" % (results2*100) + f\" for k={i}\")\n",
        "  print(\"Averaged error : %.2f%%\" % ((1-results2)*100), end = '\\n')\n",
        "  print(\"Time duration for problem 3 with PCA \" + str(end3 - start3) + f\"s for k={i}\")\n",
        "  print(\"\")"
      ],
      "execution_count": null,
      "outputs": [
        {
          "output_type": "stream",
          "name": "stdout",
          "text": [
            "Accuracy : 96.20% for k=1\n",
            "Averaged error : 3.80%\n",
            "Time duration for problem 3 with PCA 4.572713613510132s for k=1\n",
            "\n",
            "Accuracy : 95.70% for k=2\n",
            "Averaged error : 4.30%\n",
            "Time duration for problem 3 with PCA 4.391347408294678s for k=2\n",
            "\n",
            "Accuracy : 96.60% for k=3\n",
            "Averaged error : 3.40%\n",
            "Time duration for problem 3 with PCA 4.420243740081787s for k=3\n",
            "\n",
            "Accuracy : 96.30% for k=4\n",
            "Averaged error : 3.70%\n",
            "Time duration for problem 3 with PCA 4.329538822174072s for k=4\n",
            "\n",
            "Accuracy : 96.70% for k=5\n",
            "Averaged error : 3.30%\n",
            "Time duration for problem 3 with PCA 4.423214912414551s for k=5\n",
            "\n",
            "Accuracy : 97.00% for k=6\n",
            "Averaged error : 3.00%\n",
            "Time duration for problem 3 with PCA 4.496803283691406s for k=6\n",
            "\n",
            "Accuracy : 96.50% for k=7\n",
            "Averaged error : 3.50%\n",
            "Time duration for problem 3 with PCA 4.522700786590576s for k=7\n",
            "\n",
            "Accuracy : 96.30% for k=8\n",
            "Averaged error : 3.70%\n",
            "Time duration for problem 3 with PCA 4.455880403518677s for k=8\n",
            "\n",
            "Accuracy : 96.20% for k=9\n",
            "Averaged error : 3.80%\n",
            "Time duration for problem 3 with PCA 4.459426641464233s for k=9\n",
            "\n",
            "Accuracy : 95.90% for k=10\n",
            "Averaged error : 4.10%\n",
            "Time duration for problem 3 with PCA 4.401078939437866s for k=10\n",
            "\n"
          ]
        }
      ]
    }
  ]
}